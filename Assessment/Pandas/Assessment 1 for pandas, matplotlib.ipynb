{
 "cells": [
  {
   "cell_type": "markdown",
   "id": "49dacd6e-6c46-41f4-a04e-182205004010",
   "metadata": {},
   "source": [
    "PANDAS ,MATPLOTLIB"
   ]
  },
  {
   "cell_type": "code",
   "execution_count": 9,
   "id": "5d252a46-a53b-42d7-9d40-6f1af9154a72",
   "metadata": {},
   "outputs": [],
   "source": [
    "import numpy as np\n",
    "import pandas as pd"
   ]
  },
  {
   "cell_type": "code",
   "execution_count": 11,
   "id": "1aab198f-5ab7-43c5-873e-6d91faf107a6",
   "metadata": {},
   "outputs": [],
   "source": [
    "# 1) Import pandas and read in the banklist.csv file into a dataframe called banks.\n",
    "banks = pd.read_csv(\"D:/DATA ANALYTICS/pandas/banklist.csv\")"
   ]
  },
  {
   "cell_type": "code",
   "execution_count": 13,
   "id": "bea7f452-20a1-4f24-a81d-cd09ddd8f745",
   "metadata": {},
   "outputs": [
    {
     "data": {
      "text/html": [
       "<div>\n",
       "<style scoped>\n",
       "    .dataframe tbody tr th:only-of-type {\n",
       "        vertical-align: middle;\n",
       "    }\n",
       "\n",
       "    .dataframe tbody tr th {\n",
       "        vertical-align: top;\n",
       "    }\n",
       "\n",
       "    .dataframe thead th {\n",
       "        text-align: right;\n",
       "    }\n",
       "</style>\n",
       "<table border=\"1\" class=\"dataframe\">\n",
       "  <thead>\n",
       "    <tr style=\"text-align: right;\">\n",
       "      <th></th>\n",
       "      <th>Bank Name</th>\n",
       "      <th>City</th>\n",
       "      <th>ST</th>\n",
       "      <th>CERT</th>\n",
       "      <th>Acquiring Institution</th>\n",
       "      <th>Closing Date</th>\n",
       "      <th>Updated Date</th>\n",
       "    </tr>\n",
       "  </thead>\n",
       "  <tbody>\n",
       "    <tr>\n",
       "      <th>0</th>\n",
       "      <td>Fayette County Bank</td>\n",
       "      <td>Saint Elmo</td>\n",
       "      <td>IL</td>\n",
       "      <td>1802</td>\n",
       "      <td>United Fidelity Bank, fsb</td>\n",
       "      <td>26-May-17</td>\n",
       "      <td>26-Jul-17</td>\n",
       "    </tr>\n",
       "    <tr>\n",
       "      <th>1</th>\n",
       "      <td>Guaranty Bank, (d/b/a BestBank in Georgia &amp; Mi...</td>\n",
       "      <td>Milwaukee</td>\n",
       "      <td>WI</td>\n",
       "      <td>30003</td>\n",
       "      <td>First-Citizens Bank &amp; Trust Company</td>\n",
       "      <td>5-May-17</td>\n",
       "      <td>26-Jul-17</td>\n",
       "    </tr>\n",
       "    <tr>\n",
       "      <th>2</th>\n",
       "      <td>First NBC Bank</td>\n",
       "      <td>New Orleans</td>\n",
       "      <td>LA</td>\n",
       "      <td>58302</td>\n",
       "      <td>Whitney Bank</td>\n",
       "      <td>28-Apr-17</td>\n",
       "      <td>26-Jul-17</td>\n",
       "    </tr>\n",
       "    <tr>\n",
       "      <th>3</th>\n",
       "      <td>Proficio Bank</td>\n",
       "      <td>Cottonwood Heights</td>\n",
       "      <td>UT</td>\n",
       "      <td>35495</td>\n",
       "      <td>Cache Valley Bank</td>\n",
       "      <td>3-Mar-17</td>\n",
       "      <td>18-May-17</td>\n",
       "    </tr>\n",
       "    <tr>\n",
       "      <th>4</th>\n",
       "      <td>Seaway Bank and Trust Company</td>\n",
       "      <td>Chicago</td>\n",
       "      <td>IL</td>\n",
       "      <td>19328</td>\n",
       "      <td>State Bank of Texas</td>\n",
       "      <td>27-Jan-17</td>\n",
       "      <td>18-May-17</td>\n",
       "    </tr>\n",
       "    <tr>\n",
       "      <th>...</th>\n",
       "      <td>...</td>\n",
       "      <td>...</td>\n",
       "      <td>...</td>\n",
       "      <td>...</td>\n",
       "      <td>...</td>\n",
       "      <td>...</td>\n",
       "      <td>...</td>\n",
       "    </tr>\n",
       "    <tr>\n",
       "      <th>548</th>\n",
       "      <td>Superior Bank, FSB</td>\n",
       "      <td>Hinsdale</td>\n",
       "      <td>IL</td>\n",
       "      <td>32646</td>\n",
       "      <td>Superior Federal, FSB</td>\n",
       "      <td>27-Jul-01</td>\n",
       "      <td>19-Aug-14</td>\n",
       "    </tr>\n",
       "    <tr>\n",
       "      <th>549</th>\n",
       "      <td>Malta National Bank</td>\n",
       "      <td>Malta</td>\n",
       "      <td>OH</td>\n",
       "      <td>6629</td>\n",
       "      <td>North Valley Bank</td>\n",
       "      <td>3-May-01</td>\n",
       "      <td>18-Nov-02</td>\n",
       "    </tr>\n",
       "    <tr>\n",
       "      <th>550</th>\n",
       "      <td>First Alliance Bank &amp; Trust Co.</td>\n",
       "      <td>Manchester</td>\n",
       "      <td>NH</td>\n",
       "      <td>34264</td>\n",
       "      <td>Southern New Hampshire Bank &amp; Trust</td>\n",
       "      <td>2-Feb-01</td>\n",
       "      <td>18-Feb-03</td>\n",
       "    </tr>\n",
       "    <tr>\n",
       "      <th>551</th>\n",
       "      <td>National State Bank of Metropolis</td>\n",
       "      <td>Metropolis</td>\n",
       "      <td>IL</td>\n",
       "      <td>3815</td>\n",
       "      <td>Banterra Bank of Marion</td>\n",
       "      <td>14-Dec-00</td>\n",
       "      <td>17-Mar-05</td>\n",
       "    </tr>\n",
       "    <tr>\n",
       "      <th>552</th>\n",
       "      <td>Bank of Honolulu</td>\n",
       "      <td>Honolulu</td>\n",
       "      <td>HI</td>\n",
       "      <td>21029</td>\n",
       "      <td>Bank of the Orient</td>\n",
       "      <td>13-Oct-00</td>\n",
       "      <td>17-Mar-05</td>\n",
       "    </tr>\n",
       "  </tbody>\n",
       "</table>\n",
       "<p>553 rows × 7 columns</p>\n",
       "</div>"
      ],
      "text/plain": [
       "                                             Bank Name                City  \\\n",
       "0                                  Fayette County Bank          Saint Elmo   \n",
       "1    Guaranty Bank, (d/b/a BestBank in Georgia & Mi...           Milwaukee   \n",
       "2                                       First NBC Bank         New Orleans   \n",
       "3                                        Proficio Bank  Cottonwood Heights   \n",
       "4                        Seaway Bank and Trust Company             Chicago   \n",
       "..                                                 ...                 ...   \n",
       "548                                 Superior Bank, FSB            Hinsdale   \n",
       "549                                Malta National Bank               Malta   \n",
       "550                    First Alliance Bank & Trust Co.          Manchester   \n",
       "551                  National State Bank of Metropolis          Metropolis   \n",
       "552                                   Bank of Honolulu            Honolulu   \n",
       "\n",
       "     ST   CERT                Acquiring Institution Closing Date Updated Date  \n",
       "0    IL   1802            United Fidelity Bank, fsb    26-May-17    26-Jul-17  \n",
       "1    WI  30003  First-Citizens Bank & Trust Company     5-May-17    26-Jul-17  \n",
       "2    LA  58302                         Whitney Bank    28-Apr-17    26-Jul-17  \n",
       "3    UT  35495                    Cache Valley Bank     3-Mar-17    18-May-17  \n",
       "4    IL  19328                  State Bank of Texas    27-Jan-17    18-May-17  \n",
       "..   ..    ...                                  ...          ...          ...  \n",
       "548  IL  32646                Superior Federal, FSB    27-Jul-01    19-Aug-14  \n",
       "549  OH   6629                    North Valley Bank     3-May-01    18-Nov-02  \n",
       "550  NH  34264  Southern New Hampshire Bank & Trust     2-Feb-01    18-Feb-03  \n",
       "551  IL   3815              Banterra Bank of Marion    14-Dec-00    17-Mar-05  \n",
       "552  HI  21029                   Bank of the Orient    13-Oct-00    17-Mar-05  \n",
       "\n",
       "[553 rows x 7 columns]"
      ]
     },
     "execution_count": 13,
     "metadata": {},
     "output_type": "execute_result"
    }
   ],
   "source": [
    "banks"
   ]
  },
  {
   "cell_type": "code",
   "execution_count": 27,
   "id": "b1becb25-4765-4b05-8af7-c8cced46f54d",
   "metadata": {},
   "outputs": [
    {
     "data": {
      "text/html": [
       "<div>\n",
       "<style scoped>\n",
       "    .dataframe tbody tr th:only-of-type {\n",
       "        vertical-align: middle;\n",
       "    }\n",
       "\n",
       "    .dataframe tbody tr th {\n",
       "        vertical-align: top;\n",
       "    }\n",
       "\n",
       "    .dataframe thead th {\n",
       "        text-align: right;\n",
       "    }\n",
       "</style>\n",
       "<table border=\"1\" class=\"dataframe\">\n",
       "  <thead>\n",
       "    <tr style=\"text-align: right;\">\n",
       "      <th></th>\n",
       "      <th>Bank Name</th>\n",
       "      <th>City</th>\n",
       "      <th>ST</th>\n",
       "      <th>CERT</th>\n",
       "      <th>Acquiring Institution</th>\n",
       "      <th>Closing Date</th>\n",
       "      <th>Updated Date</th>\n",
       "    </tr>\n",
       "  </thead>\n",
       "  <tbody>\n",
       "    <tr>\n",
       "      <th>0</th>\n",
       "      <td>Fayette County Bank</td>\n",
       "      <td>Saint Elmo</td>\n",
       "      <td>IL</td>\n",
       "      <td>1802</td>\n",
       "      <td>United Fidelity Bank, fsb</td>\n",
       "      <td>26-May-17</td>\n",
       "      <td>26-Jul-17</td>\n",
       "    </tr>\n",
       "    <tr>\n",
       "      <th>1</th>\n",
       "      <td>Guaranty Bank, (d/b/a BestBank in Georgia &amp; Mi...</td>\n",
       "      <td>Milwaukee</td>\n",
       "      <td>WI</td>\n",
       "      <td>30003</td>\n",
       "      <td>First-Citizens Bank &amp; Trust Company</td>\n",
       "      <td>5-May-17</td>\n",
       "      <td>26-Jul-17</td>\n",
       "    </tr>\n",
       "    <tr>\n",
       "      <th>2</th>\n",
       "      <td>First NBC Bank</td>\n",
       "      <td>New Orleans</td>\n",
       "      <td>LA</td>\n",
       "      <td>58302</td>\n",
       "      <td>Whitney Bank</td>\n",
       "      <td>28-Apr-17</td>\n",
       "      <td>26-Jul-17</td>\n",
       "    </tr>\n",
       "    <tr>\n",
       "      <th>3</th>\n",
       "      <td>Proficio Bank</td>\n",
       "      <td>Cottonwood Heights</td>\n",
       "      <td>UT</td>\n",
       "      <td>35495</td>\n",
       "      <td>Cache Valley Bank</td>\n",
       "      <td>3-Mar-17</td>\n",
       "      <td>18-May-17</td>\n",
       "    </tr>\n",
       "    <tr>\n",
       "      <th>4</th>\n",
       "      <td>Seaway Bank and Trust Company</td>\n",
       "      <td>Chicago</td>\n",
       "      <td>IL</td>\n",
       "      <td>19328</td>\n",
       "      <td>State Bank of Texas</td>\n",
       "      <td>27-Jan-17</td>\n",
       "      <td>18-May-17</td>\n",
       "    </tr>\n",
       "  </tbody>\n",
       "</table>\n",
       "</div>"
      ],
      "text/plain": [
       "                                           Bank Name                City  ST  \\\n",
       "0                                Fayette County Bank          Saint Elmo  IL   \n",
       "1  Guaranty Bank, (d/b/a BestBank in Georgia & Mi...           Milwaukee  WI   \n",
       "2                                     First NBC Bank         New Orleans  LA   \n",
       "3                                      Proficio Bank  Cottonwood Heights  UT   \n",
       "4                      Seaway Bank and Trust Company             Chicago  IL   \n",
       "\n",
       "    CERT                Acquiring Institution Closing Date Updated Date  \n",
       "0   1802            United Fidelity Bank, fsb    26-May-17    26-Jul-17  \n",
       "1  30003  First-Citizens Bank & Trust Company     5-May-17    26-Jul-17  \n",
       "2  58302                         Whitney Bank    28-Apr-17    26-Jul-17  \n",
       "3  35495                    Cache Valley Bank     3-Mar-17    18-May-17  \n",
       "4  19328                  State Bank of Texas    27-Jan-17    18-May-17  "
      ]
     },
     "execution_count": 27,
     "metadata": {},
     "output_type": "execute_result"
    }
   ],
   "source": [
    "# 2) Show the head of the dataframe.\n",
    "banks.head()"
   ]
  },
  {
   "cell_type": "code",
   "execution_count": 29,
   "id": "2a3af885-bf88-4662-9bc9-47021ec4ecf2",
   "metadata": {},
   "outputs": [
    {
     "name": "stdout",
     "output_type": "stream",
     "text": [
      "Column names: ['Bank Name', 'City', 'ST', 'CERT', 'Acquiring Institution', 'Closing Date', 'Updated Date']\n"
     ]
    }
   ],
   "source": [
    "# 3) What are the column names?\n",
    "print(\"Column names:\", banks.columns.tolist())"
   ]
  },
  {
   "cell_type": "code",
   "execution_count": 31,
   "id": "bad4b6de-0b77-47aa-9882-932ff8a817eb",
   "metadata": {},
   "outputs": [
    {
     "name": "stdout",
     "output_type": "stream",
     "text": [
      "Number of states: 44\n"
     ]
    }
   ],
   "source": [
    "# 4) How many States (ST) are represented in this data set?\n",
    "print(\"Number of states:\", banks['ST'].nunique())"
   ]
  },
  {
   "cell_type": "code",
   "execution_count": 33,
   "id": "36558d05-6685-4833-94ad-d06efa7c6bac",
   "metadata": {},
   "outputs": [
    {
     "name": "stdout",
     "output_type": "stream",
     "text": [
      "List of states: ['IL' 'WI' 'LA' 'UT' 'NJ' 'AR' 'GA' 'PA' 'TN' 'WA' 'CO' 'PR' 'FL' 'MN'\n",
      " 'CA' 'MD' 'OK' 'OH' 'SC' 'VA' 'ID' 'TX' 'CT' 'AZ' 'NV' 'NC' 'KY' 'MO'\n",
      " 'KS' 'AL' 'MI' 'IN' 'IA' 'NE' 'MS' 'NM' 'OR' 'NY' 'MA' 'SD' 'WY' 'WV'\n",
      " 'NH' 'HI']\n"
     ]
    }
   ],
   "source": [
    "# 5) Get a list or array of all the states in the data set.\n",
    "print(\"List of states:\", banks['ST'].unique())"
   ]
  },
  {
   "cell_type": "code",
   "execution_count": 35,
   "id": "0f8f938e-3cdb-49fc-8753-3e2cdedecb02",
   "metadata": {},
   "outputs": [
    {
     "name": "stdout",
     "output_type": "stream",
     "text": [
      "Top 5 states with most failed banks:\n",
      "ST\n",
      "GA    93\n",
      "FL    75\n",
      "IL    68\n",
      "CA    41\n",
      "MN    23\n",
      "Name: count, dtype: int64\n"
     ]
    }
   ],
   "source": [
    "# 6) What are the top 5 states with the most failed banks?\n",
    "print(\"Top 5 states with most failed banks:\")\n",
    "print(banks['ST'].value_counts().head(5))"
   ]
  },
  {
   "cell_type": "code",
   "execution_count": 39,
   "id": "a7558c28-a30e-47ee-b41e-ff5d39307742",
   "metadata": {},
   "outputs": [
    {
     "name": "stdout",
     "output_type": "stream",
     "text": [
      "Top 5 acquiring institutions:\n",
      "Acquiring Institution\n",
      "No Acquirer                            31\n",
      "State Bank and Trust Company           12\n",
      "First-Citizens Bank & Trust Company    11\n",
      "Ameris Bank                            10\n",
      "U.S. Bank N.A.                          9\n",
      "Name: count, dtype: int64\n"
     ]
    }
   ],
   "source": [
    "# 7) What are the top 5 acquiring institutions?\n",
    "print(\"Top 5 acquiring institutions:\")\n",
    "print(banks['Acquiring Institution'].value_counts().head(5))"
   ]
  },
  {
   "cell_type": "code",
   "execution_count": 15,
   "id": "1d53170a-165b-4d13-986f-af081d2f939b",
   "metadata": {},
   "outputs": [
    {
     "name": "stdout",
     "output_type": "stream",
     "text": [
      "\n",
      "Number of banks acquired by State Bank of Texas: 3\n",
      "Number of those banks that were in Texas: 1\n"
     ]
    }
   ],
   "source": [
    "# 8) How many banks has the State Bank of Texas acquired? How many of them were actually in Texas?\n",
    "sbtx_banks = banks[banks['Acquiring Institution'] == 'State Bank of Texas']\n",
    "print(\"\\nNumber of banks acquired by State Bank of Texas:\", len(sbtx_banks))\n",
    "\n",
    "sbtx_in_texas = sbtx_banks[sbtx_banks['ST'] == 'TX']\n",
    "print(\"Number of those banks that were in Texas:\", len(sbtx_in_texas))"
   ]
  },
  {
   "cell_type": "code",
   "execution_count": 17,
   "id": "78358305-f77b-4602-8710-516492ee3c54",
   "metadata": {},
   "outputs": [
    {
     "name": "stdout",
     "output_type": "stream",
     "text": [
      "\n",
      "Most common city in California for a bank to fail in:\n",
      "Los Angeles\n"
     ]
    }
   ],
   "source": [
    "# 9) What is the most common city in California for a bank to fail in?\n",
    "ca_banks = banks[banks['ST'] == 'CA']\n",
    "print(\"\\nMost common city in California for a bank to fail in:\")\n",
    "print(ca_banks['City'].value_counts().idxmax())"
   ]
  }
 ],
 "metadata": {
  "kernelspec": {
   "display_name": "Python 3 (ipykernel)",
   "language": "python",
   "name": "python3"
  },
  "language_info": {
   "codemirror_mode": {
    "name": "ipython",
    "version": 3
   },
   "file_extension": ".py",
   "mimetype": "text/x-python",
   "name": "python",
   "nbconvert_exporter": "python",
   "pygments_lexer": "ipython3",
   "version": "3.12.7"
  }
 },
 "nbformat": 4,
 "nbformat_minor": 5
}
