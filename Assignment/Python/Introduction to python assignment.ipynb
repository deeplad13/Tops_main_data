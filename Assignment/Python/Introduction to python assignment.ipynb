{
 "cells": [
  {
   "cell_type": "code",
   "execution_count": 4,
   "id": "1234ec4e-eb9e-43c0-b416-4909aae049f6",
   "metadata": {},
   "outputs": [
    {
     "name": "stdin",
     "output_type": "stream",
     "text": [
      "Enter the number: -9\n"
     ]
    },
    {
     "name": "stdout",
     "output_type": "stream",
     "text": [
      "Negative\n"
     ]
    }
   ],
   "source": [
    "# 1) What are the types of Applications?\n",
    "# Web Applications, Desktop Applications,Mobile Applications,Game Development,Machine Learning & AI Applications,Data Science & Analytics Applications.\n",
    "\n",
    "# 2) What is Programming?\n",
    "#Programming is the process of writing instructions (code) that a computer can execute to perform specific tasks. It involves designing, writing, testing, \n",
    "#and maintaining programs using programming languages like Python, Java, C++, etc.\n",
    "\n",
    "# 3) What is Python?\n",
    "#Python is a high-level, interpreted programming language known for its simplicity, readability, and versatility. It is widely used in web development, \n",
    "#data science, artificial intelligence, automation.\n",
    "\n",
    "# 4) Write a Python program to check if a number is positive, negative or zero.\n",
    "num = int(input(\"Enter the number:\"))\n",
    "\n",
    "if num > 0:\n",
    "    print(\"Positive\")\n",
    "elif num < 0:\n",
    "    print(\"Negative\")\n",
    "else:\n",
    "    print(\"Zero\")"
   ]
  },
  {
   "cell_type": "code",
   "execution_count": 3,
   "id": "9a9aa01b-04d4-4832-a970-309fb491445e",
   "metadata": {},
   "outputs": [
    {
     "name": "stdout",
     "output_type": "stream",
     "text": [
      "Factorial of 6 is 720\n"
     ]
    }
   ],
   "source": [
    "# 5) Write a Python program to get the Factorial number of given numbers.\n",
    "\n",
    "def factorial(n):\n",
    "    if n < 0:\n",
    "        return \"Factorial is not defined for negative numbers\"\n",
    "    elif n == 0 or n == 1:\n",
    "        return 1\n",
    "    else:\n",
    "        return n * factorial(n - 1)\n",
    "\n",
    "num = 6\n",
    "print(f\"Factorial of {num} is {factorial(num)}\")"
   ]
  },
  {
   "cell_type": "code",
   "execution_count": 3,
   "id": "d15b3ea6-0805-49ef-8570-f864c720ca94",
   "metadata": {},
   "outputs": [
    {
     "name": "stdin",
     "output_type": "stream",
     "text": [
      "Enter the range for Fibonacci series:  10\n"
     ]
    },
    {
     "name": "stdout",
     "output_type": "stream",
     "text": [
      "Fibonacci series: [0, 1, 1, 2, 3, 5, 8, 13, 21, 34]\n"
     ]
    }
   ],
   "source": [
    "# 6) Write a Python program to get the Fibonacci series of given range.\n",
    "def fibonacci_series(n):\n",
    "    fib_series = [0, 1]\n",
    "    for i in range(2, n):\n",
    "        next_term = fib_series[-1] + fib_series[-2]\n",
    "        fib_series.append(next_term)\n",
    "    return fib_series[:n]\n",
    "\n",
    "num = int(input(\"Enter the range for Fibonacci series: \"))\n",
    "print(\"Fibonacci series:\", fibonacci_series(num))"
   ]
  },
  {
   "cell_type": "code",
   "execution_count": 5,
   "id": "e5b82c8a-aa7c-491d-bb2f-6bc39dd6ff39",
   "metadata": {},
   "outputs": [
    {
     "name": "stdout",
     "output_type": "stream",
     "text": [
      "Before swapping: a = 5 b = 10\n",
      "After swapping: a = 10 b = 5\n"
     ]
    }
   ],
   "source": [
    "# 7) How memory is managed in Python?\n",
    "# Memory management in Python is handled automatically using a combination of reference counting and garbage collection.\n",
    "#  Reference Counting\n",
    "#  Every object in Python has a reference count, which tracks how many variables or data structures refer to it.\n",
    "# Garbage Collection (GC)\n",
    "# Python has a cyclic garbage collector to clean up circular references that reference counting alone cannot handle.\n",
    "\n",
    "# 8) What is the purpose continuing statement in python?\n",
    "# The continue statement in Python is used inside loops to skip the rest of the code in the current iteration and move to the next iteration. \n",
    "# It is typically used when certain conditions are met, and you want to avoid executing the remaining statements in the loop body.\n",
    "\n",
    "# Purpose of continue Statement:\n",
    "# It helps control the loop flow by skipping specific iterations based on a condition.\n",
    "# It improves efficiency by preventing unnecessary computations.\n",
    "\n",
    "# 9) Write python program that swap two number with temp variable and without temp variable.\n",
    "\n",
    "a = 5\n",
    "b = 10\n",
    "\n",
    "print(\"Before swapping: a =\", a, \"b =\", b)\n",
    "\n",
    "temp = a\n",
    "a = b\n",
    "b = temp\n",
    "\n",
    "print(\"After swapping: a =\", a, \"b =\", b)"
   ]
  },
  {
   "cell_type": "code",
   "execution_count": 7,
   "id": "4df8d788-cb00-4d4f-9c7f-61b4212da453",
   "metadata": {},
   "outputs": [
    {
     "name": "stdout",
     "output_type": "stream",
     "text": [
      "Before swapping: x = 5 y = 10\n",
      "After swapping: x = 10 y = 5\n"
     ]
    }
   ],
   "source": [
    "# Without using a temporary variable\n",
    "x = 5\n",
    "y = 10\n",
    "\n",
    "print(\"Before swapping: x =\", x, \"y =\", y)\n",
    "\n",
    "x, y = y, x  \n",
    "print(\"After swapping: x =\", x, \"y =\", y)"
   ]
  },
  {
   "cell_type": "code",
   "execution_count": 9,
   "id": "816c5e41-c347-493a-81de-45bfaa910c1d",
   "metadata": {},
   "outputs": [
    {
     "name": "stdin",
     "output_type": "stream",
     "text": [
      "Enter the number 5\n"
     ]
    },
    {
     "name": "stdout",
     "output_type": "stream",
     "text": [
      "Number is odd\n"
     ]
    }
   ],
   "source": [
    "# 10) Write a Python program to find whether a given number is even or odd, print out an appropriate message to the user.\n",
    "\n",
    "var = int(input(\"Enter the number\"))\n",
    "\n",
    "if var > 0:\n",
    "    if var %2 == 0:\n",
    "        print(\"Number is even\")\n",
    "    else:\n",
    "        print(\"Number is odd\")"
   ]
  },
  {
   "cell_type": "code",
   "execution_count": 9,
   "id": "c1e947d2-f39d-464e-a4b5-348a5ba4ea86",
   "metadata": {},
   "outputs": [
    {
     "name": "stdin",
     "output_type": "stream",
     "text": [
      "Enter a letter:  i\n"
     ]
    },
    {
     "name": "stdout",
     "output_type": "stream",
     "text": [
      "i is a vowel.\n"
     ]
    }
   ],
   "source": [
    "# 11) Write a Python program to test whether a passed letter is a vowel or not.\n",
    "def is_vowel(letter):\n",
    "    vowels = \"aeiouAEIOU\"\n",
    "    return letter in vowels\n",
    "\n",
    "char = input(\"Enter a letter: \")\n",
    "\n",
    "if len(char) == 1 and char.isalpha():\n",
    "    if is_vowel(char):\n",
    "        print(f\"{char} is a vowel.\")\n",
    "    else:\n",
    "        print(f\"{char} is not a vowel.\")\n",
    "else:\n",
    "    print(\"Please enter a single letter.\")"
   ]
  },
  {
   "cell_type": "code",
   "execution_count": 11,
   "id": "8aac49f9-b4ab-4982-a126-09652e0752dd",
   "metadata": {},
   "outputs": [
    {
     "name": "stdin",
     "output_type": "stream",
     "text": [
      "Enter first number:  8\n",
      "Enter second number:  12\n",
      "Enter third number:  10\n"
     ]
    },
    {
     "name": "stdout",
     "output_type": "stream",
     "text": [
      "Result: 30\n"
     ]
    }
   ],
   "source": [
    "# 12) Write a Python program to sum of three given integers. However, if two values are equal sum will be zero.\n",
    "def custom_sum(a, b, c):\n",
    "    if a == b or b == c or a == c:\n",
    "        return 0\n",
    "    return a + b + c\n",
    "\n",
    "num1 = int(input(\"Enter first number: \"))\n",
    "num2 = int(input(\"Enter second number: \"))\n",
    "num3 = int(input(\"Enter third number: \"))\n",
    "\n",
    "result = custom_sum(num1, num2, num3)\n",
    "print(\"Result:\", result)"
   ]
  },
  {
   "cell_type": "code",
   "execution_count": 15,
   "id": "20c37a05-aac0-4065-81d5-c6a82fa4216c",
   "metadata": {},
   "outputs": [
    {
     "name": "stdin",
     "output_type": "stream",
     "text": [
      "Enter first number:  8\n",
      "Enter second number:  8\n"
     ]
    },
    {
     "name": "stdout",
     "output_type": "stream",
     "text": [
      "Result: True\n"
     ]
    }
   ],
   "source": [
    "# 13) Write a Python program that will return true if the two given integer values are equal or their sum or difference is 5.\n",
    "def check_numbers(a, b):\n",
    "    return a == b or abs(a - b) == 5 or (a + b) == 5\n",
    "\n",
    "num1 = int(input(\"Enter first number: \"))\n",
    "num2 = int(input(\"Enter second number: \"))\n",
    "\n",
    "result = check_numbers(num1, num2)\n",
    "print(\"Result:\", result)"
   ]
  },
  {
   "cell_type": "code",
   "execution_count": 19,
   "id": "7cbc8b2c-15c6-4638-a3c8-b87147f2f9de",
   "metadata": {},
   "outputs": [
    {
     "name": "stdin",
     "output_type": "stream",
     "text": [
      "Enter a positive integer:  5\n"
     ]
    },
    {
     "name": "stdout",
     "output_type": "stream",
     "text": [
      "Sum of first 5 positive integers: 15\n"
     ]
    }
   ],
   "source": [
    "# 14) Write a python program to sum of the first n positive integers.\n",
    "\n",
    "def sum_of_n(n):\n",
    "    return n * (n + 1) // 2\n",
    "\n",
    "num = int(input(\"Enter a positive integer: \"))\n",
    "print(\"Sum of first\", num, \"positive integers:\", sum_of_n(num))"
   ]
  },
  {
   "cell_type": "code",
   "execution_count": 23,
   "id": "b930dd33-ccf5-40c0-ace3-d013657f2111",
   "metadata": {},
   "outputs": [
    {
     "name": "stdin",
     "output_type": "stream",
     "text": [
      "Enter a string: Deep\n"
     ]
    },
    {
     "name": "stdout",
     "output_type": "stream",
     "text": [
      "4\n"
     ]
    }
   ],
   "source": [
    "# 15) Write a Python program to calculate the length of a string.\n",
    "\n",
    "var = input(\"Enter a string:\")\n",
    "print(len(var))"
   ]
  },
  {
   "cell_type": "code",
   "execution_count": 27,
   "id": "f06344af-4f43-455d-a6dc-236039abd58f",
   "metadata": {},
   "outputs": [
    {
     "name": "stdin",
     "output_type": "stream",
     "text": [
      "Enter a string to count character frequency:  deep\n"
     ]
    },
    {
     "name": "stdout",
     "output_type": "stream",
     "text": [
      "Character frequency: {'d': 1, 'e': 2, 'p': 1}\n"
     ]
    }
   ],
   "source": [
    "# 16) Write a Python program to count the number of characters (character frequency) in a string.\n",
    "\n",
    "def char_frequency(s):\n",
    "    freq = {}\n",
    "    for char in s:\n",
    "        freq[char] = freq.get(char, 0) + 1\n",
    "    return freq\n",
    "\n",
    "string = input(\"Enter a string to count character frequency: \")\n",
    "print(\"Character frequency:\", char_frequency(string))"
   ]
  },
  {
   "cell_type": "code",
   "execution_count": 31,
   "id": "0d7f551a-9822-41e6-bb9d-5888f9e0e924",
   "metadata": {},
   "outputs": [
    {
     "name": "stdin",
     "output_type": "stream",
     "text": [
      "Enter the main string:  my name is deep\n",
      "Enter the substring to count:  deep\n"
     ]
    },
    {
     "name": "stdout",
     "output_type": "stream",
     "text": [
      "The substring 'deep' appears 1 times in the main string.\n"
     ]
    }
   ],
   "source": [
    "# 17) What are negative indexes and why are they used?\n",
    "# Negative indexes in Python allow you to access elements from the end of a sequence, such as a list, tuple, or string.\n",
    "# Easier Access to Last Elements: Instead of calculating the length of a sequence, you can directly use negative indexing.\n",
    "\n",
    "# 18) Write a Python program to count occurrences of a substring in a string.\n",
    "def count_substring(main_string, sub_string):\n",
    "    return main_string.count(sub_string)\n",
    "\n",
    "main_string = input(\"Enter the main string: \")\n",
    "sub_string = input(\"Enter the substring to count: \")\n",
    "\n",
    "count = count_substring(main_string, sub_string)\n",
    "print(f\"The substring '{sub_string}' appears {count} times in the main string.\")"
   ]
  },
  {
   "cell_type": "code",
   "execution_count": 33,
   "id": "17b2c21b-1318-4d2d-be44-e084139cfc6b",
   "metadata": {},
   "outputs": [
    {
     "name": "stdin",
     "output_type": "stream",
     "text": [
      "Enter a sentence:  virat kohli is a best batsman in world\n"
     ]
    },
    {
     "name": "stdout",
     "output_type": "stream",
     "text": [
      "Word occurrences:\n",
      "virat: 1\n",
      "kohli: 1\n",
      "is: 1\n",
      "a: 1\n",
      "best: 1\n",
      "batsman: 1\n",
      "in: 1\n",
      "world: 1\n"
     ]
    }
   ],
   "source": [
    "# 19) Write a Python program to count the occurrences of each word in a given sentence.\n",
    "def count_word_occurrences(sentence):\n",
    "    words = sentence.split()\n",
    "    word_freq = {}\n",
    "    \n",
    "    for word in words:\n",
    "        word_freq[word] = word_freq.get(word, 0) + 1\n",
    "    \n",
    "    return word_freq\n",
    "\n",
    "sentence = input(\"Enter a sentence: \")\n",
    "word_counts = count_word_occurrences(sentence)\n",
    "\n",
    "print(\"Word occurrences:\")\n",
    "for word, count in word_counts.items():\n",
    "    print(f\"{word}: {count}\")"
   ]
  },
  {
   "cell_type": "code",
   "execution_count": 37,
   "id": "aa9167b3-cb99-483f-b38b-ee8839f259cc",
   "metadata": {},
   "outputs": [
    {
     "name": "stdin",
     "output_type": "stream",
     "text": [
      "Enter first string:  deep\n",
      "Enter second string:  shiv\n"
     ]
    },
    {
     "name": "stdout",
     "output_type": "stream",
     "text": [
      "Result: shep deiv\n"
     ]
    }
   ],
   "source": [
    "# 20) Write a Python program to get a single string from two given strings,separated by a space and swap the first two characters of each string.\n",
    "def swap_chars_easy(str1, str2):\n",
    "    return f\"{str2[:2] + str1[2:]} {str1[:2] + str2[2:]}\" if len(str1) > 1 and len(str2) > 1 else \"Both strings must have at least two characters.\"\n",
    "\n",
    "s1, s2 = input(\"Enter first string: \"), input(\"Enter second string: \")\n",
    "\n",
    "print(\"Result:\", swap_chars_easy(s1, s2))"
   ]
  },
  {
   "cell_type": "code",
   "execution_count": 7,
   "id": "3b7a9810-7f15-4611-beb1-f7e5cf2b4a22",
   "metadata": {},
   "outputs": [
    {
     "name": "stdin",
     "output_type": "stream",
     "text": [
      "Enter a string:  viewing\n"
     ]
    },
    {
     "name": "stdout",
     "output_type": "stream",
     "text": [
      "Modified string: viewingly\n"
     ]
    }
   ],
   "source": [
    "# 21) Write a Python program to add 'in' at the end of a given string (length should be at least 3). If the given string already ends with 'ing' then \n",
    "#add 'ly' instead if the string length of the given string is less than 3,leave it unchanged.\n",
    "\n",
    "def modify_string(s):\n",
    "    if len(s) < 3:\n",
    "        return s\n",
    "    elif s.endswith('ing'):\n",
    "        return s + 'ly'\n",
    "    else:\n",
    "        return s + 'ing'\n",
    "\n",
    "user_input = input(\"Enter a string: \")\n",
    "result = modify_string(user_input)\n",
    "print(\"Modified string:\", result)"
   ]
  },
  {
   "cell_type": "code",
   "execution_count": 13,
   "id": "acb80dfd-3a82-486c-8451-b16720a2cb92",
   "metadata": {},
   "outputs": [
    {
     "name": "stdin",
     "output_type": "stream",
     "text": [
      "Enter a string:  wifi\n"
     ]
    },
    {
     "name": "stdout",
     "output_type": "stream",
     "text": [
      "Result: ifiw\n"
     ]
    }
   ],
   "source": [
    "# 22) Write a Python function to reverses a string if its length is a multiple of 4.\n",
    "\n",
    "def reverse_if_multiple_of_4(s):\n",
    "    if len(s) % 4 == 0:\n",
    "        return s[::-1]  \n",
    "    return s  \n",
    "\n",
    "user_input = input(\"Enter a string: \")\n",
    "result = reverse_if_multiple_of_4(user_input)\n",
    "print(\"Result:\", result)"
   ]
  },
  {
   "cell_type": "code",
   "execution_count": 19,
   "id": "005f4778-1c18-4754-b334-0f37b21954f5",
   "metadata": {},
   "outputs": [
    {
     "name": "stdin",
     "output_type": "stream",
     "text": [
      "Enter a string:  deep\n"
     ]
    },
    {
     "name": "stdout",
     "output_type": "stream",
     "text": [
      "Result: deep\n"
     ]
    }
   ],
   "source": [
    "# 23) Write a Python program to get a string made of the first 2 and the last 2 chars from a given a string. If the string length is less than 2, \n",
    "# return instead of the empty string.\n",
    "\n",
    "def first_last_2_chars(s):\n",
    "    if len(s) < 2:\n",
    "        return \"\" \n",
    "    return s[:2] + s[-2:]  \n",
    "    \n",
    "user_input = input(\"Enter a string: \")\n",
    "result = first_last_2_chars(user_input)\n",
    "print(\"Result:\", result)"
   ]
  },
  {
   "cell_type": "code",
   "execution_count": 23,
   "id": "ddab7081-0b7e-4d17-a0e8-77b2d1d1648d",
   "metadata": {},
   "outputs": [
    {
     "name": "stdin",
     "output_type": "stream",
     "text": [
      "Enter the original string:  vt\n",
      "Enter the string to insert:  ira\n"
     ]
    },
    {
     "name": "stdout",
     "output_type": "stream",
     "text": [
      "Modified string: virat\n"
     ]
    }
   ],
   "source": [
    "# 24) Write a Python function to insert a string in the middle of a string.\n",
    "\n",
    "def insert_in_middle(original, to_insert):\n",
    "    mid = len(original) // 2 \n",
    "    return original[:mid] + to_insert + original[mid:]\n",
    "\n",
    "original_str = input(\"Enter the original string: \")\n",
    "insert_str = input(\"Enter the string to insert: \")\n",
    "result = insert_in_middle(original_str, insert_str)\n",
    "print(\"Modified string:\", result)"
   ]
  },
  {
   "cell_type": "code",
   "execution_count": 25,
   "id": "9e0e259b-71f9-44fd-aaaf-9da4058c7803",
   "metadata": {},
   "outputs": [
    {
     "name": "stdout",
     "output_type": "stream",
     "text": [
      "[5, 4, 3, 2, 1]\n"
     ]
    }
   ],
   "source": [
    "# 25) What is List? How will you reverse a list?\n",
    "# A list in Python is a mutable, ordered collection of elements. Lists can contain elements of different data types, including integers, floats,\n",
    "# strings, and even other lists.\n",
    "my_list = [1, 2, 3, 4, 5]\n",
    "my_list.reverse()\n",
    "print(my_list)  "
   ]
  },
  {
   "cell_type": "code",
   "execution_count": 27,
   "id": "21e3e85f-8d84-4936-bb2b-cc61afb18d87",
   "metadata": {},
   "outputs": [
    {
     "name": "stdout",
     "output_type": "stream",
     "text": [
      "['apple', 'banana', 'cherry']\n"
     ]
    }
   ],
   "source": [
    "# 26) How will you remove last object from a list?\n",
    "\n",
    "my_list = [\"apple\",\"banana\",\"cherry\",\"orange\"]\n",
    "my_list.pop()\n",
    "print(my_list)"
   ]
  },
  {
   "cell_type": "code",
   "execution_count": 35,
   "id": "bc208276-f5a5-4e18-a6eb-302be5062cb2",
   "metadata": {},
   "outputs": [
    {
     "name": "stdout",
     "output_type": "stream",
     "text": [
      "25\n"
     ]
    }
   ],
   "source": [
    "# 27) Suppose list1 is [2, 33, 222, 14, and 25], what is list1 [-1]?\n",
    "\n",
    "list1 = [2,33,222,14,25]\n",
    "print(list1[-1])"
   ]
  },
  {
   "cell_type": "code",
   "execution_count": null,
   "id": "0b940d10-93de-4345-b8f7-8029c32cf5be",
   "metadata": {},
   "outputs": [],
   "source": [
    "# 28) Differentiate between append () and extend () methods?\n",
    "#1) Functionality\n",
    "# append(x): Adds a single element to the end of the list.\n",
    "# extend(iterable): Adds multiple elements from an iterable to the list.\n",
    "\n",
    "#2) Effect on List Structure\n",
    "# append(): Adds the element as a whole (including lists as a single element).\n",
    "# extend(): Breaks down the iterable and adds each element individually.\n",
    "\n",
    "#3) Modification Type\n",
    "# append(): Adds one object without unpacking it.\n",
    "# extend(): Unpacks and adds elements separately.\n",
    "\n",
    "#4) Use Cases\n",
    "# Use append() when adding a single item (even a list as an element).\n",
    "# Use extend() when merging multiple elements from another list or iterable."
   ]
  },
  {
   "cell_type": "code",
   "execution_count": 39,
   "id": "da680584-9342-451d-936e-01301809178d",
   "metadata": {},
   "outputs": [
    {
     "name": "stdout",
     "output_type": "stream",
     "text": [
      "Largest: 98\n",
      "Smallest: 24\n",
      "Sum: 350\n"
     ]
    }
   ],
   "source": [
    "# 29) Write a Python function to get the largest number, smallest num and sum of all from a list.\n",
    "\n",
    "list = [24,87,45,98,56,40]\n",
    "largest = max(list)\n",
    "smallest = min(list)\n",
    "total = sum(list)\n",
    "\n",
    "print(\"Largest:\", largest)\n",
    "print(\"Smallest:\", smallest)\n",
    "print(\"Sum:\", total)"
   ]
  },
  {
   "cell_type": "code",
   "execution_count": 41,
   "id": "49af5871-2aa4-4556-b4c5-f5fb2010e895",
   "metadata": {},
   "outputs": [
    {
     "name": "stdout",
     "output_type": "stream",
     "text": [
      "True\n",
      "False\n"
     ]
    }
   ],
   "source": [
    "# 30) How will you compare two lists?\n",
    "\n",
    "list1 = [1, 2, 3]\n",
    "list2 = [1, 2, 3]\n",
    "list3 = [3, 2, 1]\n",
    "\n",
    "print(list1 == list2)  \n",
    "print(list1 == list3)  "
   ]
  },
  {
   "cell_type": "code",
   "execution_count": 45,
   "id": "95b74a47-fa90-408f-9c92-7af83cd0597f",
   "metadata": {},
   "outputs": [
    {
     "name": "stdout",
     "output_type": "stream",
     "text": [
      "Count of matching strings: 3\n"
     ]
    }
   ],
   "source": [
    "# 31) Write a Python program to count the number of strings where the string length is 2 or more and the first and last character are same from \n",
    "# a given list of strings.\n",
    "\n",
    "list2 = [\"apple\",\"banana\",\"orange\",\"strings\",\"sports\",\"12231\"]\n",
    "count = 0\n",
    "for word in list2:\n",
    "    if len(word) >= 2 and word[0] == word[-1]:\n",
    "        count += 1\n",
    "print(\"Count of matching strings:\", count)"
   ]
  },
  {
   "cell_type": "code",
   "execution_count": 49,
   "id": "4efe0a14-3792-4f43-837e-fad1c4b1d0a1",
   "metadata": {},
   "outputs": [
    {
     "name": "stdout",
     "output_type": "stream",
     "text": [
      "List without duplicates: [1, 2, 3, 4, 5, 6]\n"
     ]
    }
   ],
   "source": [
    "# 32) Write a Python program to remove duplicates from a list.\n",
    "\n",
    "numbers = [1, 2, 3, 2, 4, 5, 1, 6]\n",
    "unique_numbers = []\n",
    "for num in numbers:\n",
    "    if num not in unique_numbers:\n",
    "        unique_numbers.append(num)\n",
    "\n",
    "print(\"List without duplicates:\", unique_numbers)"
   ]
  },
  {
   "cell_type": "code",
   "execution_count": 53,
   "id": "47e1f0ed-8af7-4014-ae00-895412227f5b",
   "metadata": {},
   "outputs": [
    {
     "name": "stdout",
     "output_type": "stream",
     "text": [
      "The list is empty.\n"
     ]
    }
   ],
   "source": [
    "# 33) Write a Python program to check a list is empty or not.\n",
    "\n",
    "my_list = []\n",
    "\n",
    "if len(my_list) == 0:\n",
    "    print(\"The list is empty.\")\n",
    "else:\n",
    "    print(\"The list is not empty.\")"
   ]
  },
  {
   "cell_type": "code",
   "execution_count": 65,
   "id": "94bf8648-2664-4a3d-b38d-b4f1c7692fcd",
   "metadata": {},
   "outputs": [
    {
     "name": "stdout",
     "output_type": "stream",
     "text": [
      "True\n"
     ]
    }
   ],
   "source": [
    "# 34) Write a Python function that takes two lists and returns true if they have at least one common member.\n",
    "\n",
    "list1 = [\"apple\",\"banana\",\"cherry\"]\n",
    "list2 = [\"orange\",\"banana\",\"grapes\"]\n",
    "common = any(item in list1 for item in list2)\n",
    "\n",
    "print(common)"
   ]
  },
  {
   "cell_type": "code",
   "execution_count": 77,
   "id": "8540cf0f-46a2-4f82-89f1-1109f7a133ba",
   "metadata": {},
   "outputs": [
    {
     "name": "stdout",
     "output_type": "stream",
     "text": [
      "First 5 elements: [1, 4, 9, 16, 25]\n",
      "Last 5 elements: [676, 729, 784, 841, 900]\n"
     ]
    }
   ],
   "source": [
    "# 35) Write a Python program to generate and print a list of first and last 5 elements where the values are square of numbers between 1 and 30.\n",
    "\n",
    "squares = [x**2 for x in range(1, 31)]  \n",
    "\n",
    "first_five = squares[:5] \n",
    "last_five = squares[-5:]  \n",
    "\n",
    "print(\"First 5 elements:\", first_five)\n",
    "print(\"Last 5 elements:\", last_five)"
   ]
  },
  {
   "cell_type": "code",
   "execution_count": 39,
   "id": "fea5cb88-124b-4323-99f0-41e53504275f",
   "metadata": {},
   "outputs": [
    {
     "name": "stdout",
     "output_type": "stream",
     "text": [
      "[1, 2, 3, 4, 5]\n"
     ]
    }
   ],
   "source": [
    "# 36) Write a Python function that takes a list and returns a new list with unique elements of the first list.\n",
    "def unique_elements(input_list):\n",
    "    seen = set()\n",
    "    unique_list = []\n",
    "    for item in input_list:\n",
    "        if item not in seen:\n",
    "            seen.add(item)\n",
    "            unique_list.append(item)\n",
    "    return unique_list\n",
    "\n",
    "my_list = [1, 2, 2, 3, 4, 4, 5]\n",
    "print(unique_elements(my_list))"
   ]
  },
  {
   "cell_type": "code",
   "execution_count": 35,
   "id": "4b4fe789-f8eb-4b01-ab88-0a2461ed4d12",
   "metadata": {},
   "outputs": [
    {
     "name": "stdout",
     "output_type": "stream",
     "text": [
      "Converted string: Hello\n"
     ]
    }
   ],
   "source": [
    "# 37) Write a Python program to convert a list of characters into a string.\n",
    "\n",
    "char_list = ['H', 'e', 'l', 'l', 'o']\n",
    "\n",
    "string = ''.join(char_list)  \n",
    "print(\"Converted string:\", string)"
   ]
  },
  {
   "cell_type": "code",
   "execution_count": 85,
   "id": "5740e5d3-c896-415d-8d84-9ea4d7668be7",
   "metadata": {},
   "outputs": [
    {
     "name": "stdout",
     "output_type": "stream",
     "text": [
      "Randomly selected item: orange\n"
     ]
    }
   ],
   "source": [
    "# 38) Write a Python program to select an item randomly from a list.\n",
    "\n",
    "import random  \n",
    "\n",
    "my_list = [\"apple\", \"banana\", \"cherry\", \"orange\", \"grape\"]\n",
    "random_item = random.choice(my_list) \n",
    "print(\"Randomly selected item:\", random_item)"
   ]
  },
  {
   "cell_type": "code",
   "execution_count": 87,
   "id": "8663d161-571b-4b67-86ef-19081102762e",
   "metadata": {},
   "outputs": [
    {
     "name": "stdout",
     "output_type": "stream",
     "text": [
      "Second smallest number: 2\n"
     ]
    }
   ],
   "source": [
    "# 39) Write a Python program to find the second smallest number in a list.\n",
    "\n",
    "def second_smallest(numbers):\n",
    "    unique_numbers = sorted(set(numbers))  \n",
    "    return unique_numbers[1] if len(unique_numbers) > 1 else None\n",
    "\n",
    "num_list = [5, 1, 8, 2, 3, 1, 4]\n",
    "print(\"Second smallest number:\", second_smallest(num_list))"
   ]
  },
  {
   "cell_type": "code",
   "execution_count": 91,
   "id": "c4f690d1-55b9-45f0-bb51-8bdc04545fc7",
   "metadata": {},
   "outputs": [
    {
     "name": "stdout",
     "output_type": "stream",
     "text": [
      "Unique values: [1, 2, 3, 4, 5, 6]\n"
     ]
    }
   ],
   "source": [
    "# 40) Write a Python program to get unique values from a list\n",
    "\n",
    "my_list = [1, 2, 2, 3, 4, 4, 5, 6, 6]\n",
    "\n",
    "unique_values = []\n",
    "for num in my_list:\n",
    "    if num not in unique_values:\n",
    "        unique_values.append(num)\n",
    "\n",
    "print(\"Unique values:\", unique_values)"
   ]
  },
  {
   "cell_type": "code",
   "execution_count": 93,
   "id": "cb9a3e03-e9cf-46a6-bcdb-a8452f932ab0",
   "metadata": {},
   "outputs": [
    {
     "name": "stdout",
     "output_type": "stream",
     "text": [
      "Contains sublist: True\n"
     ]
    }
   ],
   "source": [
    "# 41) Write a Python program to check whether a list contains a sub list\n",
    "\n",
    "main_list = [1, 2, 3, 4, 5, 6]\n",
    "sub_list = [3, 4, 5]\n",
    "\n",
    "contains = False \n",
    "\n",
    "for i in range(len(main_list) - len(sub_list) + 1):  \n",
    "    if main_list[i:i+len(sub_list)] == sub_list: \n",
    "        contains = True\n",
    "        break \n",
    "\n",
    "print(\"Contains sublist:\", contains)"
   ]
  },
  {
   "cell_type": "code",
   "execution_count": 95,
   "id": "8ebb3f67-70cc-4e06-9057-284bbd80b06c",
   "metadata": {},
   "outputs": [
    {
     "name": "stdout",
     "output_type": "stream",
     "text": [
      "a: 1\n",
      "b: 2\n",
      "c: 3\n"
     ]
    }
   ],
   "source": [
    "# 42) Write a Python program to split a list into different variables.\n",
    "\n",
    "my_list = [1, 2, 3]\n",
    "\n",
    "a, b, c = my_list  \n",
    "\n",
    "print(\"a:\", a)\n",
    "print(\"b:\", b)\n",
    "print(\"c:\", c)"
   ]
  },
  {
   "cell_type": "code",
   "execution_count": 97,
   "id": "01131619-63b4-48f3-9586-929f2cffd73f",
   "metadata": {},
   "outputs": [
    {
     "name": "stdout",
     "output_type": "stream",
     "text": [
      "Tuple with different data types: (10, 3.14, 'Hello', True, [1, 2, 3], (4, 5), {'key': 'value'})\n",
      "Element: 10, Type: <class 'int'>\n",
      "Element: 3.14, Type: <class 'float'>\n",
      "Element: Hello, Type: <class 'str'>\n",
      "Element: True, Type: <class 'bool'>\n",
      "Element: [1, 2, 3], Type: <class 'list'>\n",
      "Element: (4, 5), Type: <class 'tuple'>\n",
      "Element: {'key': 'value'}, Type: <class 'dict'>\n"
     ]
    }
   ],
   "source": [
    "# 43) What is tuple? Difference between list and tuple.\n",
    "# A tuple is an ordered, immutable collection of elements in Python. It is defined using parentheses ().\n",
    "\n",
    "# Mutability\n",
    "# List: Mutable (Can be modified – add, remove, or change elements).\n",
    "# Tuple: Immutable (Cannot be modified after creation).\n",
    "\n",
    "# Syntax\n",
    "# List: Defined using square brackets [] → my_list = [1, 2, 3].\n",
    "# Tuple: Defined using parentheses () → my_tuple = (1, 2, 3).\n",
    "\n",
    "# Performance\n",
    "# List: Slower due to dynamic nature and higher memory usage.\n",
    "# Tuple: Faster due to fixed structure and lower memory usage.\n",
    "\n",
    "# Memory Usage\n",
    "# List: Uses more memory as it supports modifications.\n",
    "# Tuple: Uses less memory since it's immutable.\n",
    "\n",
    "# Methods Available\n",
    "# List: More built-in methods (append(), remove(), sort(), etc.).\n",
    "# Tuple: Fewer methods (count(), index()).\n",
    "\n",
    "# 44) Write a Python program to create a tuple with different data types.\n",
    "\n",
    "my_tuple = (10, 3.14, \"Hello\", True, [1, 2, 3], (4, 5), {'key': 'value'})\n",
    "\n",
    "print(\"Tuple with different data types:\", my_tuple)\n",
    "\n",
    "for item in my_tuple:\n",
    "    print(f\"Element: {item}, Type: {type(item)}\")"
   ]
  },
  {
   "cell_type": "code",
   "execution_count": 41,
   "id": "bee2bcce-e526-416e-937b-82f1c2860ef3",
   "metadata": {},
   "outputs": [
    {
     "name": "stdout",
     "output_type": "stream",
     "text": [
      "[[1, 2, 3], ['a', 'b', 'c']]\n"
     ]
    }
   ],
   "source": [
    "# 45) Write a Python program to unzip a list of tuples into individual lists.\n",
    "def unzip_list_of_tuples(tuples_list):\n",
    "    return list(map(list, zip(*tuples_list)))\n",
    "\n",
    "tuples = [(1, 'a'), (2, 'b'), (3, 'c')]\n",
    "unzipped = unzip_list_of_tuples(tuples)\n",
    "\n",
    "print(unzipped)"
   ]
  },
  {
   "cell_type": "code",
   "execution_count": 7,
   "id": "76f93a66-e456-4a58-96a6-b0338e7d9adf",
   "metadata": {},
   "outputs": [
    {
     "name": "stdout",
     "output_type": "stream",
     "text": [
      "Dictionary: {'a': 1, 'b': 2, 'c': 3}\n"
     ]
    }
   ],
   "source": [
    "# 46) Write a Python program to convert a list of tuples into a dictionary.\n",
    "\n",
    "tuple_list = [(\"a\", 1), (\"b\", 2), (\"c\", 3)]\n",
    "result_dict = dict(tuple_list)\n",
    "\n",
    "print(\"Dictionary:\", result_dict)"
   ]
  },
  {
   "cell_type": "code",
   "execution_count": 9,
   "id": "ac6275b6-1ce7-4c83-a726-175d15cb5561",
   "metadata": {},
   "outputs": [
    {
     "name": "stdout",
     "output_type": "stream",
     "text": [
      "{'name': 'Alice', 'age': 25, 'city': 'New York'}\n"
     ]
    }
   ],
   "source": [
    "# 47) How will you create a dictionary using tuples in python?\n",
    "\n",
    "data = [(\"name\", \"Alice\"), (\"age\", 25), (\"city\", \"New York\")]\n",
    "person = dict(data)\n",
    "\n",
    "print(person)"
   ]
  },
  {
   "cell_type": "code",
   "execution_count": 11,
   "id": "c88ae291-a121-445a-bb61-971409c83736",
   "metadata": {},
   "outputs": [
    {
     "name": "stdout",
     "output_type": "stream",
     "text": [
      "Original Dictionary: {'apple': 10, 'banana': 5, 'cherry': 20, 'date': 15}\n",
      "Sorted by value (ascending): {'banana': 5, 'apple': 10, 'date': 15, 'cherry': 20}\n",
      "Sorted by value (descending): {'cherry': 20, 'date': 15, 'apple': 10, 'banana': 5}\n"
     ]
    }
   ],
   "source": [
    "# 48) Write a Python script to sort (ascending and descending) a dictionary by value.\n",
    "\n",
    "my_dict = {'apple': 10, 'banana': 5, 'cherry': 20, 'date': 15}\n",
    "\n",
    "ascending = dict(sorted(my_dict.items(), key=lambda item: item[1]))\n",
    "descending = dict(sorted(my_dict.items(), key=lambda item: item[1], reverse=True))\n",
    "\n",
    "print(\"Original Dictionary:\", my_dict)\n",
    "print(\"Sorted by value (ascending):\", ascending)\n",
    "print(\"Sorted by value (descending):\", descending)"
   ]
  },
  {
   "cell_type": "code",
   "execution_count": 13,
   "id": "6749132f-2f7c-4c5e-b067-fb3a3ccc4a28",
   "metadata": {},
   "outputs": [
    {
     "name": "stdout",
     "output_type": "stream",
     "text": [
      "Combined Dictionary: {'a': 100, 'b': 200, 'c': 300, 'd': 400, 'e': 500, 'f': 600}\n"
     ]
    }
   ],
   "source": [
    "# 49) Write a Python script to concatenate following dictionaries to create a new one.\n",
    "\n",
    "dict1 = {'a': 100, 'b': 200}\n",
    "dict2 = {'c': 300, 'd': 400}\n",
    "dict3 = {'e': 500, 'f': 600}\n",
    "\n",
    "combined_dict = {**dict1, **dict2, **dict3}\n",
    "\n",
    "print(\"Combined Dictionary:\", combined_dict)"
   ]
  },
  {
   "cell_type": "code",
   "execution_count": 15,
   "id": "3aad7eaf-2e5b-4e25-a41b-5b6c3041f393",
   "metadata": {},
   "outputs": [
    {
     "name": "stdout",
     "output_type": "stream",
     "text": [
      "Key 'age' exists in the dictionary.\n"
     ]
    }
   ],
   "source": [
    "# 50) Write a Python script to check if a given key already exists in a dictionary.\n",
    "\n",
    "my_dict = {'name': 'Alice', 'age': 25, 'city': 'New York'}\n",
    "\n",
    "key_to_check = 'age'\n",
    "if key_to_check in my_dict:\n",
    "    print(f\"Key '{key_to_check}' exists in the dictionary.\")\n",
    "else:\n",
    "    print(f\"Key '{key_to_check}' does not exist in the dictionary.\")"
   ]
  },
  {
   "cell_type": "code",
   "execution_count": 17,
   "id": "18f43fa2-6efb-4464-aafe-e092964f33f3",
   "metadata": {},
   "outputs": [
    {
     "name": "stdout",
     "output_type": "stream",
     "text": [
      "Key: name\n",
      "Key: age\n",
      "Key: city\n"
     ]
    }
   ],
   "source": [
    "# 51)  How Do You Traverse Through a Dictionary Object in Python?\n",
    "my_dict = {'name': 'Alice', 'age': 25, 'city': 'New York'}\n",
    "\n",
    "for key in my_dict:\n",
    "    print(\"Key:\", key)"
   ]
  },
  {
   "cell_type": "code",
   "execution_count": 19,
   "id": "8781a0c7-73a9-457d-a2af-1e85f8356fc8",
   "metadata": {},
   "outputs": [
    {
     "name": "stdout",
     "output_type": "stream",
     "text": [
      "Key 'age' is present.\n"
     ]
    }
   ],
   "source": [
    "# 52) How Do You Check the Presence of a Key in A Dictionary?\n",
    "my_dict = {'name': 'Alice', 'age': 25}\n",
    "\n",
    "if 'age' in my_dict:\n",
    "    print(\"Key 'age' is present.\")\n",
    "else:\n",
    "    print(\"Key 'age' is not present.\")"
   ]
  },
  {
   "cell_type": "code",
   "execution_count": 21,
   "id": "31d0354f-3e25-4370-8bd7-146c64c3e973",
   "metadata": {},
   "outputs": [
    {
     "name": "stdout",
     "output_type": "stream",
     "text": [
      "Dictionary with keys 1 to 15 and square values:\n",
      "{1: 1, 2: 4, 3: 9, 4: 16, 5: 25, 6: 36, 7: 49, 8: 64, 9: 81, 10: 100, 11: 121, 12: 144, 13: 169, 14: 196, 15: 225}\n"
     ]
    }
   ],
   "source": [
    "# 53)  Write a Python script to print a dictionary where the keys are numbers between 1 and 15.\n",
    "my_dict = {x: x**2 for x in range(1, 16)}\n",
    "\n",
    "print(\"Dictionary with keys 1 to 15 and square values:\")\n",
    "print(my_dict)"
   ]
  },
  {
   "cell_type": "code",
   "execution_count": 23,
   "id": "8399ad28-586d-4be4-a6d6-b87a40d39a93",
   "metadata": {},
   "outputs": [
    {
     "name": "stdout",
     "output_type": "stream",
     "text": [
      "All keys exist in the dictionary.\n"
     ]
    }
   ],
   "source": [
    "# 54) Write a Python program to check multiple keys exists in a dictionary.\n",
    "my_dict = {'name': 'Alice', 'age': 25, 'city': 'New York', 'email': 'alice@example.com'}\n",
    "\n",
    "keys_to_check = ['name', 'age', 'email']\n",
    "\n",
    "if set(keys_to_check).issubset(my_dict):\n",
    "    print(\"All keys exist in the dictionary.\")\n",
    "else:\n",
    "    print(\"One or more keys are missing.\")"
   ]
  },
  {
   "cell_type": "code",
   "execution_count": 39,
   "id": "e8535ea7-3ad7-4140-8c01-e9e336cb9c5b",
   "metadata": {},
   "outputs": [
    {
     "name": "stdout",
     "output_type": "stream",
     "text": [
      "{'name': 'mohit', 'age': 22, 'city': 'delhi'}\n"
     ]
    }
   ],
   "source": [
    "# 55) Write a Python script to merge two Python dictionaries.\n",
    "\n",
    "dict1 = {\"name\":\"ajay\",\"age\":25,\"city\":\"mumbai\"}\n",
    "dict2 = {\"name\":\"mohit\",\"age\":22,\"city\":\"delhi\"}\n",
    "merged_dict = "
   ]
  },
  {
   "cell_type": "code",
   "execution_count": 1,
   "id": "e315df8b-d429-4fa1-84d4-65bf1f992ab7",
   "metadata": {},
   "outputs": [
    {
     "name": "stdout",
     "output_type": "stream",
     "text": [
      "Counter ({'a': 400, 'b': 400, 'c': 300, 'd': 400})\n"
     ]
    }
   ],
   "source": [
    "# 56) Write a Python program to map two lists into a dictionary.\n",
    "\n",
    "keys = ['a', 'b', 'c', 'd']\n",
    "values = [400, 400, 300, 400]\n",
    "\n",
    "mapped_dict = dict(zip(keys, values))\n",
    "formatted_output = \"Counter ({\" + ', '.join(f\"'{k}': {v}\" for k, v in mapped_dict.items()) + \"})\"\n",
    "\n",
    "print(formatted_output)"
   ]
  },
  {
   "cell_type": "code",
   "execution_count": 3,
   "id": "ed7133f7-843a-4a87-ab50-bc9718e92b7c",
   "metadata": {},
   "outputs": [
    {
     "name": "stdout",
     "output_type": "stream",
     "text": [
      "Top 3 highest values in the dictionary:\n",
      "d: 400\n",
      "b: 300\n",
      "e: 250\n"
     ]
    }
   ],
   "source": [
    "# 57) Write a Python program to find the highest 3 values in a dictionary.\n",
    "\n",
    "my_dict = {'a': 100, 'b': 300, 'c': 200, 'd': 400, 'e': 250}\n",
    "\n",
    "top_3 = sorted(my_dict.items(), key=lambda item: item[1], reverse=True)[:3]\n",
    "print(\"Top 3 highest values in the dictionary:\")\n",
    "for key, value in top_3:\n",
    "    print(f\"{key}: {value}\")"
   ]
  },
  {
   "cell_type": "code",
   "execution_count": 5,
   "id": "11532bd2-f798-46c8-bec4-ab6a79181694",
   "metadata": {},
   "outputs": [
    {
     "name": "stdout",
     "output_type": "stream",
     "text": [
      "Counter ({'item1': 1150, 'item2': 300})\n"
     ]
    }
   ],
   "source": [
    "# 58) Write a Python program to combine values in python list of dictionaries.\n",
    "\n",
    "data = [\n",
    "    {'item': 'item1', 'amount': 400},\n",
    "    {'item': 'item2', 'amount': 300},\n",
    "    {'item': 'item1', 'amount': 750}\n",
    "]\n",
    "result = {}\n",
    "for entry in data:\n",
    "    item = entry['item']\n",
    "    amount = entry['amount']\n",
    "    if item in result:\n",
    "        result[item] += amount\n",
    "    else:\n",
    "        result[item] = amount\n",
    "formatted_output = \"Counter ({\" + ', '.join(f\"'{k}': {v}\" for k, v in result.items()) + \"})\"\n",
    "print(formatted_output)"
   ]
  },
  {
   "cell_type": "code",
   "execution_count": 7,
   "id": "c0927c59-69cb-4b7a-8cfd-b598eef55dfd",
   "metadata": {},
   "outputs": [
    {
     "name": "stdout",
     "output_type": "stream",
     "text": [
      "{'h': 1, 'e': 1, 'l': 3, 'o': 2, 'w': 1, 'r': 1, 'd': 1}\n"
     ]
    }
   ],
   "source": [
    "# 59)  Write a Python program to create a dictionary from a string.\n",
    "\n",
    "def create_dict_from_string(input_string):\n",
    "    letter_count = {}\n",
    "    for char in input_string:\n",
    "        if char.isalpha():\n",
    "            char = char.lower()  \n",
    "            letter_count[char] = letter_count.get(char, 0) + 1\n",
    "    return letter_count\n",
    "\n",
    "input_str = \"Hello World\"\n",
    "result = create_dict_from_string(input_str)\n",
    "print(result)"
   ]
  },
  {
   "cell_type": "code",
   "execution_count": 9,
   "id": "96abadc1-e636-447e-b3a9-b0b20c81807b",
   "metadata": {},
   "outputs": [
    {
     "name": "stdout",
     "output_type": "stream",
     "text": [
      "{'w': 1, '3': 1, 'r': 2, 'e': 2, 's': 1, 'o': 1, 'u': 1, 'c': 1}\n"
     ]
    }
   ],
   "source": [
    "# 60) Sample string:\n",
    "'w3resource'\n",
    "\n",
    "def create_dict_from_string(input_string):\n",
    "    letter_count = {}\n",
    "    for char in input_string:\n",
    "        letter_count[char] = letter_count.get(char, 0) + 1\n",
    "    return letter_count\n",
    "\n",
    "input_str = \"w3resource\"\n",
    "result = create_dict_from_string(input_str)\n",
    "print(result)"
   ]
  },
  {
   "cell_type": "code",
   "execution_count": 11,
   "id": "3dbbe771-c5d5-4861-986b-f123738d7b1b",
   "metadata": {},
   "outputs": [
    {
     "name": "stdout",
     "output_type": "stream",
     "text": [
      "120\n"
     ]
    }
   ],
   "source": [
    "# 61) Write a Python function to calculate the factorial of a number (a nonnegative integer)\n",
    "\n",
    "def factorial(n):\n",
    "    if n < 0:\n",
    "        raise ValueError(\"Factorial is not defined for negative numbers.\")\n",
    "    result = 1\n",
    "    for i in range(2, n + 1):\n",
    "        result *= i\n",
    "    return result\n",
    "\n",
    "print(factorial(5)) "
   ]
  },
  {
   "cell_type": "code",
   "execution_count": 13,
   "id": "5090076c-7813-46fe-b683-a25e2c37c2b0",
   "metadata": {},
   "outputs": [
    {
     "name": "stdout",
     "output_type": "stream",
     "text": [
      "True\n",
      "False\n"
     ]
    }
   ],
   "source": [
    "# 62) Write a Python function to check whether a number is in a given range.\n",
    "def is_in_range(num, start, end):\n",
    "    return start <= num <= end\n",
    "\n",
    "print(is_in_range(5, 1, 10))   \n",
    "print(is_in_range(15, 1, 10)) "
   ]
  },
  {
   "cell_type": "code",
   "execution_count": 15,
   "id": "14f61914-02d6-460c-a8c8-3eb4c9de6c25",
   "metadata": {},
   "outputs": [
    {
     "name": "stdout",
     "output_type": "stream",
     "text": [
      "True\n",
      "True\n",
      "False\n"
     ]
    }
   ],
   "source": [
    "# 63) Write a Python function to check whether a number is perfect or not.\n",
    "def is_perfect_number(n):\n",
    "    if n < 1:\n",
    "        return False\n",
    "\n",
    "    divisors_sum = 0\n",
    "    for i in range(1, n):\n",
    "        if n % i == 0:\n",
    "            divisors_sum += i\n",
    "\n",
    "    return divisors_sum == n\n",
    "\n",
    "print(is_perfect_number(6))   \n",
    "print(is_perfect_number(28)) \n",
    "print(is_perfect_number(10))   "
   ]
  },
  {
   "cell_type": "code",
   "execution_count": 17,
   "id": "fa726091-2ffa-4a2f-8944-1641300be214",
   "metadata": {},
   "outputs": [
    {
     "name": "stdout",
     "output_type": "stream",
     "text": [
      "True\n",
      "False\n",
      "True\n",
      "True\n"
     ]
    }
   ],
   "source": [
    "# 64) Write a Python function that checks whether a passed string is palindrome or not.\n",
    "def is_palindrome(s):\n",
    "    s = s.replace(\" \", \"\").lower()\n",
    "    return s == s[::-1]\n",
    "\n",
    "print(is_palindrome(\"madam\"))      \n",
    "print(is_palindrome(\"hello\"))        \n",
    "print(is_palindrome(\"RaceCar\"))      \n",
    "print(is_palindrome(\"nurses run\")) "
   ]
  },
  {
   "cell_type": "code",
   "execution_count": 19,
   "id": "856e1489-2c61-4a2c-8194-1e67a72af817",
   "metadata": {},
   "outputs": [
    {
     "name": "stdout",
     "output_type": "stream",
     "text": [
      "\n",
      "File content:\n",
      "deep\n",
      "virat kohli\n",
      "python \n",
      "hello\n",
      "\n"
     ]
    }
   ],
   "source": [
    "# 65) How Many Basic Types of Functions Are Available in Python?\n",
    "# Built-in Functions\n",
    "# These are predefined functions provided by Python.\n",
    "# You can use them directly without defining them.\n",
    "\n",
    "# Examples:\n",
    "# print(),len(),sum(),type(),input()\n",
    "\n",
    "# User-defined Functions\n",
    "# These are functions that you create using the def keyword.\n",
    "# They are used to organize and reuse code.\n",
    "\n",
    "# 66) How can you pick a random item from a list or tuple?\n",
    "# You can pick a random item from a list or tuple using the random module in Python.\n",
    "\n",
    "# 67) How can you pick a random item from a range?\n",
    "# To pick a random item from a range in Python, you can use the random.choice() or random.randrange() function from the random module.\n",
    "\n",
    "# 68) How can you get a random number in python?\n",
    "# You can get a random number in Python using the random module.\n",
    "\n",
    "# 69) How will you set the starting value in generating random numbers?\n",
    "# You can set the starting value (also called the seed) for generating random numbers using the random.seed() function in Python.\n",
    "\n",
    "# 70) How will you randomize the items of a list in place?\n",
    "# To randomize (shuffle) the items of a list in place in Python, you can use the random.shuffle() function from the random module.\n",
    "\n",
    "# 71) What is File function in python? What are keywords to create and write file.\n",
    "# In Python, file functions are used to create, open, read, write, and close files.\n",
    "# Python provides built-in functions to work with files. \n",
    "\n",
    "# Keywords to Create and Write a File:\n",
    "# 'w' – Write mode\n",
    "# Creates a new file if it doesn't exist.\n",
    "# 'x' – create file\n",
    "# Creates a new file.\n",
    "# Raises an error if the file already exists.\n",
    "\n",
    "# 72) Write a Python program to read an entire text file.\n",
    "file_name = \"sample.txt\"\n",
    "with open(file_name, \"r\") as file:\n",
    "    content = file.read()\n",
    "\n",
    "print(\"\\nFile content:\")\n",
    "print(content)"
   ]
  },
  {
   "cell_type": "code",
   "execution_count": 17,
   "id": "2a242295-8c68-4d15-8032-31c2de7101d3",
   "metadata": {},
   "outputs": [
    {
     "name": "stdin",
     "output_type": "stream",
     "text": [
      "Enter the text to append to the file:  hello\n"
     ]
    },
    {
     "name": "stdout",
     "output_type": "stream",
     "text": [
      "\n",
      "Contents of the file after appending:\n",
      "deep\n",
      "virat kohli\n",
      "python \n",
      "hello\n",
      "\n"
     ]
    }
   ],
   "source": [
    "# 73) Write a Python program to append text to a file and display the text.\n",
    "file_name = \"sample.txt\"\n",
    "\n",
    "text_to_append = input(\"Enter the text to append to the file: \")\n",
    "\n",
    "with open(file_name, \"a\") as file:\n",
    "    file.write(text_to_append + \"\\n\")\n",
    "print(\"\\nContents of the file after appending:\")\n",
    "with open(file_name, \"r\") as file:\n",
    "    contents = file.read()\n",
    "    print(contents)"
   ]
  },
  {
   "cell_type": "code",
   "execution_count": 11,
   "id": "3d4c20e5-b727-476a-bb8c-5f037a68c6f8",
   "metadata": {},
   "outputs": [
    {
     "name": "stdin",
     "output_type": "stream",
     "text": [
      "Enter the number of lines to read:  2\n"
     ]
    },
    {
     "name": "stdout",
     "output_type": "stream",
     "text": [
      "\n",
      "First 2 lines of the file:\n",
      "deep\n",
      "virat kohli\n"
     ]
    }
   ],
   "source": [
    "# 74)  Write a Python program to read first n lines of a file.\n",
    "file_name = \"sample.txt\"\n",
    "\n",
    "n = int(input(\"Enter the number of lines to read: \"))\n",
    "try:\n",
    "    with open(file_name, \"r\") as file:\n",
    "        print(f\"\\nFirst {n} lines of the file:\")\n",
    "        for i in range(n):\n",
    "            line = file.readline()\n",
    "            if line == \"\":\n",
    "                break  \n",
    "            print(line.strip())\n",
    "except FileNotFoundError:\n",
    "    print(f\"Error: The file '{file_name}' does not exist.\")"
   ]
  },
  {
   "cell_type": "code",
   "execution_count": 21,
   "id": "23953756-9ae5-4cd8-ba7c-afceb929361e",
   "metadata": {},
   "outputs": [
    {
     "name": "stdin",
     "output_type": "stream",
     "text": [
      "Enter number of lines to read from the end:  2\n"
     ]
    },
    {
     "name": "stdout",
     "output_type": "stream",
     "text": [
      "\n",
      "Last 2 lines of the file:\n",
      "python\n",
      "hello\n"
     ]
    }
   ],
   "source": [
    "# 75) Write a Python program to read last n lines of a file.\n",
    "file_name = \"sample.txt\"\n",
    "n = int(input(\"Enter number of lines to read from the end: \"))\n",
    "\n",
    "with open(file_name, \"r\") as file:\n",
    "    lines = file.readlines()\n",
    "\n",
    "print(\"\\nLast\", n, \"lines of the file:\")\n",
    "for line in lines[-n:]:\n",
    "    print(line.strip())"
   ]
  },
  {
   "cell_type": "code",
   "execution_count": 23,
   "id": "0ee7638e-ad7b-4139-bb2d-858cf496e156",
   "metadata": {},
   "outputs": [
    {
     "name": "stdout",
     "output_type": "stream",
     "text": [
      "Lines stored in a list:\n",
      "['deep', 'virat kohli', 'python', 'hello']\n"
     ]
    }
   ],
   "source": [
    "# 76) Write a Python program to read a file line by line and store it into a list\n",
    "file_name = \"sample.txt\"\n",
    "with open(file_name, \"r\") as file:\n",
    "    lines_list = file.readlines()\n",
    "lines_list = [line.strip() for line in lines_list]\n",
    "\n",
    "print(\"Lines stored in a list:\")\n",
    "print(lines_list)"
   ]
  },
  {
   "cell_type": "code",
   "execution_count": 27,
   "id": "e0f726c9-445b-4456-956e-52a534fce00f",
   "metadata": {},
   "outputs": [
    {
     "name": "stdout",
     "output_type": "stream",
     "text": [
      "Lines stored in a variable (as string):\n",
      "deep\n",
      "virat kohli\n",
      "python \n",
      "hello\n",
      "\n"
     ]
    }
   ],
   "source": [
    "# 77) Write a Python program to read a file line by line store it into a variable.\n",
    "file_name = \"sample.txt\"\n",
    "\n",
    "with open(file_name, \"r\") as file:\n",
    "    content = \"\"\n",
    "    for line in file:\n",
    "        content += line\n",
    "print(\"Lines stored in a variable (as string):\")\n",
    "print(content)"
   ]
  },
  {
   "cell_type": "code",
   "execution_count": 29,
   "id": "20ab751a-cea2-4556-bd96-96acfd1e8b98",
   "metadata": {},
   "outputs": [
    {
     "name": "stdout",
     "output_type": "stream",
     "text": [
      "Longest word(s):\n",
      "python\n"
     ]
    }
   ],
   "source": [
    "# 78) Write a python program to find the longest words.\n",
    "file_name = \"sample.txt\"\n",
    "with open(file_name, \"r\") as file:\n",
    "    words = file.read().split()\n",
    "\n",
    "longest_length = max(len(word) for word in words)\n",
    "longest_words = [word for word in words if len(word) == longest_length]\n",
    "\n",
    "print(\"Longest word(s):\")\n",
    "for word in longest_words:\n",
    "    print(word)"
   ]
  },
  {
   "cell_type": "code",
   "execution_count": 31,
   "id": "e9bd52c1-187c-4263-9727-452ef0a19719",
   "metadata": {},
   "outputs": [
    {
     "name": "stdout",
     "output_type": "stream",
     "text": [
      "Number of lines in the file: 4\n"
     ]
    }
   ],
   "source": [
    "# 79) Write a Python program to count the number of lines in a text file.\n",
    "file_name = \"sample.txt\"\n",
    "\n",
    "with open(file_name, \"r\") as file:\n",
    "    line_count = sum(1 for line in file)\n",
    "print(\"Number of lines in the file:\", line_count)"
   ]
  },
  {
   "cell_type": "code",
   "execution_count": 33,
   "id": "17b94fd9-5119-4833-a814-094262540ebc",
   "metadata": {},
   "outputs": [
    {
     "name": "stdout",
     "output_type": "stream",
     "text": [
      "Word frequencies:\n",
      "deep: 1\n",
      "virat: 1\n",
      "kohli: 1\n",
      "python: 1\n",
      "hello: 1\n"
     ]
    }
   ],
   "source": [
    "# 80) Write a Python program to count the frequency of words in a file.\n",
    "file_name = \"sample.txt\"\n",
    "with open(file_name, \"r\") as file:\n",
    "    words = file.read().split()\n",
    "\n",
    "word_count = {}\n",
    "for word in words:\n",
    "    word = word.lower()\n",
    "    word_count[word] = word_count.get(word, 0) + 1\n",
    "print(\"Word frequencies:\")\n",
    "for word, count in word_count.items():\n",
    "    print(f\"{word}: {count}\")"
   ]
  },
  {
   "cell_type": "code",
   "execution_count": 35,
   "id": "2003f76a-1dc0-44f3-bf5d-b513fbe0e08f",
   "metadata": {},
   "outputs": [
    {
     "name": "stdout",
     "output_type": "stream",
     "text": [
      "List has been written to output.txt\n"
     ]
    }
   ],
   "source": [
    "# 81) Write a Python program to write a list to a file.\n",
    "items = [\"apple\", \"banana\", \"cherry\", \"date\"]\n",
    "file_name = \"output.txt\"\n",
    "\n",
    "with open(file_name, \"w\") as file:\n",
    "    for item in items:\n",
    "        file.write(item + \"\\n\")\n",
    "\n",
    "print(\"List has been written to\", file_name)"
   ]
  },
  {
   "cell_type": "code",
   "execution_count": 43,
   "id": "c1178315-d344-45f4-8613-a99794a70ed7",
   "metadata": {},
   "outputs": [
    {
     "name": "stdout",
     "output_type": "stream",
     "text": [
      "File copied successfully!\n"
     ]
    }
   ],
   "source": [
    "# 82) Write a Python program to copy the contents of a file to another file.\n",
    "source = \"output.txt\"\n",
    "destination = \"copy.txt\"\n",
    "with open(source, \"r\") as f1, open(destination, \"w\") as f2:\n",
    "    f2.write(f1.read())\n",
    "\n",
    "print(\"File copied successfully!\")"
   ]
  },
  {
   "cell_type": "code",
   "execution_count": null,
   "id": "c9046704-b9e0-41ef-9ac5-fe179eca4ed8",
   "metadata": {},
   "outputs": [],
   "source": [
    "# 83)  Explain Exception handling? What is an Error in Python?\n",
    "# Exception Handling is a way to catch and handle errors during program execution so the program doesn't crash.\n",
    "\n",
    "# An error is a problem in a program that causes it to stop running. There are two main types:\n",
    "# Syntax Errors:\n",
    "# Occur when Python can't understand your code (e.g., missing a colon, incorrect indentation).\n",
    "if x == 5  # Missing colon\n",
    "    print(\"x is 5\")\n",
    "\n",
    "# Exceptions (Runtime Errors):\n",
    "# Occur while the program is running, like dividing by zero or trying to open a file that doesn't exist.\n",
    "print(10 / 0)  # ZeroDivisionError"
   ]
  },
  {
   "cell_type": "code",
   "execution_count": null,
   "id": "5bfddc2e-f8c7-40bf-8c67-100d20e2391f",
   "metadata": {},
   "outputs": [],
   "source": [
    "# 84) How many except statements can a try-except block have? Name Some built-in exception classes:\n",
    "# You can have as many except blocks as you want after a try block. Each one can handle a different type of exception.\n",
    "# Python goes through each except in order.\n",
    "# The first matching one gets executed.\n",
    "\n",
    "# ValueError\n",
    "# Raised when a function receives an argument of the correct type but invalid value.\n",
    "# Example: int(\"abc\")\n",
    "\n",
    "# TypeError\n",
    "# Raised when an operation is applied to an object of inappropriate type.\n",
    "# Example: \"5\" + 10\n",
    "\n",
    "# ZeroDivisionError\n",
    "# Raised when a number is divided by zero.\n",
    "# Example: 10 / 0\n",
    "\n",
    "# IndexError\n",
    "# Raised when trying to access an invalid index in a list or tuple.\n",
    "# Example: my_list[10] when the list has only 3 elements\n",
    "\n",
    "# KeyError\n",
    "# Raised when trying to access a non-existent key in a dictionary.\n",
    "# Example: my_dict[\"missing_key\"]\n",
    "\n",
    "# FileNotFoundError\n",
    "# Raised when trying to open a file that doesn't exist.\n",
    "# Example: open(\"nofile.txt\")\n",
    "\n",
    "# IOError\n",
    "# Raised for I/O related errors (e.g., file can't be opened).\n",
    "# Note: In Python 3, this is often replaced by OSError or FileNotFoundError.\n",
    "\n",
    "# NameError\n",
    "# Raised when a variable is not defined.\n",
    "# Example: print(x) when x is not defined\n",
    "\n",
    "# AttributeError\n",
    "# Raised when an object doesn’t have the requested attribute.\n",
    "# Example: \"hello\".push()"
   ]
  },
  {
   "cell_type": "code",
   "execution_count": null,
   "id": "a06d085f-da76-4a1c-b79e-cd79339b6246",
   "metadata": {},
   "outputs": [],
   "source": [
    "# 85) When will the else part of try-except-else be executed?\n",
    "# The else block is executed only if:\n",
    "# The code in the try block runs without raising any exception"
   ]
  },
  {
   "cell_type": "code",
   "execution_count": null,
   "id": "9dfae19e-de13-4627-af46-784d93683157",
   "metadata": {},
   "outputs": [],
   "source": [
    "# 86) Can one block of except statements handle multiple exception?\n",
    "# Using a tuple of exception types\n",
    "# You can catch multiple specific exceptions in a single except block by putting them in a tuple.\n",
    "# You can use a general Exception class to catch any exception:"
   ]
  },
  {
   "cell_type": "code",
   "execution_count": null,
   "id": "dce80116-afae-4328-8674-3e045d3f15a6",
   "metadata": {},
   "outputs": [],
   "source": [
    "# 87) When is the finally block executed?\n",
    "# The finally block is always executed, no matter what happens in the try or except blocks.\n",
    "# finally runs whether an exception is raised or not.\n",
    "# finally runs even if the exception is not caught.\n",
    "# finally runs even if you use return, break, or continue in try or except."
   ]
  },
  {
   "cell_type": "code",
   "execution_count": null,
   "id": "beb55ad3-c6fe-4891-9373-409608296b85",
   "metadata": {},
   "outputs": [],
   "source": [
    "# 88) What happens when „1‟== 1 is executed?\n",
    "# \"1\" is a string\n",
    "# 1 is an integer\n",
    "# Python does not automatically convert types when checking equality with ==.\n",
    "print(int(\"1\") == 1)  \n",
    "print(str(1) == \"1\")   "
   ]
  },
  {
   "cell_type": "code",
   "execution_count": 49,
   "id": "4dcce376-97a8-404b-a72e-aa3c99715050",
   "metadata": {},
   "outputs": [
    {
     "name": "stdin",
     "output_type": "stream",
     "text": [
      "Enter a number:  60\n",
      "Enter another number:  3\n"
     ]
    },
    {
     "name": "stdout",
     "output_type": "stream",
     "text": [
      "Result: 20.0\n",
      "This block always runs (e.g., closing resources).\n"
     ]
    }
   ],
   "source": [
    "# 89)  How Do You Handle Exceptions with Try/Except/Finally in Python? Explain with coding snippets.\n",
    "try:\n",
    "    num1 = int(input(\"Enter a number: \"))\n",
    "    num2 = int(input(\"Enter another number: \"))\n",
    "    result = num1 / num2\n",
    "    print(\"Result:\", result)\n",
    "except ZeroDivisionError:\n",
    "    print(\"You can't divide by zero.\")\n",
    "except ValueError:\n",
    "    print(\"Please enter valid numbers.\")\n",
    "finally:\n",
    "    print(\"This block always runs (e.g., closing resources).\")"
   ]
  },
  {
   "cell_type": "code",
   "execution_count": 51,
   "id": "6330c420-8179-4705-ab55-32abdf3d7de3",
   "metadata": {},
   "outputs": [
    {
     "name": "stdin",
     "output_type": "stream",
     "text": [
      "Enter an odd number:  7\n"
     ]
    },
    {
     "name": "stdout",
     "output_type": "stream",
     "text": [
      "Thank you! 7 is an odd number.\n"
     ]
    }
   ],
   "source": [
    "# 90) Write python program that user to enter only odd numbers, else will raise an exception.\n",
    "class EvenNumberError(Exception):\n",
    "    \"\"\"Exception raised when an even number is entered.\"\"\"\n",
    "    pass\n",
    "\n",
    "def get_odd_number():\n",
    "    try:\n",
    "        number = int(input(\"Enter an odd number: \"))\n",
    "        if number % 2 == 0:\n",
    "            raise EvenNumberError(f\"{number} is not an odd number!\")\n",
    "        print(f\"Thank you! {number} is an odd number.\")\n",
    "    except EvenNumberError as e:\n",
    "        print(\"Error:\", e)\n",
    "    except ValueError:\n",
    "        print(\"Invalid input! Please enter a valid integer.\")\n",
    "\n",
    "if __name__ == \"__main__\":\n",
    "    get_odd_number()"
   ]
  }
 ],
 "metadata": {
  "kernelspec": {
   "display_name": "Python 3 (ipykernel)",
   "language": "python",
   "name": "python3"
  },
  "language_info": {
   "codemirror_mode": {
    "name": "ipython",
    "version": 3
   },
   "file_extension": ".py",
   "mimetype": "text/x-python",
   "name": "python",
   "nbconvert_exporter": "python",
   "pygments_lexer": "ipython3",
   "version": "3.12.7"
  }
 },
 "nbformat": 4,
 "nbformat_minor": 5
}
